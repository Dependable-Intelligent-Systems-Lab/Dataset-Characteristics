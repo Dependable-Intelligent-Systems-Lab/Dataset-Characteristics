{
 "cells": [
  {
   "cell_type": "code",
   "execution_count": 129,
   "id": "9dc5366f",
   "metadata": {},
   "outputs": [],
   "source": [
    "#import numpy as np\n",
    "import pandas as pd #for reading csv files\n",
    "#import matplotlib.pyplot as plt\n",
    "import seaborn as sns\n",
    "#%matplotlib inline"
   ]
  },
  {
   "cell_type": "code",
   "execution_count": 130,
   "id": "c6a46080",
   "metadata": {},
   "outputs": [],
   "source": [
    "path = './Datasets/'\n",
    "fileName = 'diabetes.csv'\n",
    "fullPath = path+fileName"
   ]
  },
  {
   "cell_type": "code",
   "execution_count": 131,
   "id": "7278b468",
   "metadata": {},
   "outputs": [
    {
     "name": "stdout",
     "output_type": "stream",
     "text": [
      "./Datasets/diabetes.csv\n"
     ]
    }
   ],
   "source": [
    "print (fullPath)"
   ]
  },
  {
   "cell_type": "code",
   "execution_count": 132,
   "id": "d2da1c12",
   "metadata": {},
   "outputs": [],
   "source": [
    "#reading the file\n",
    "features = pd.read_csv(fullPath)"
   ]
  },
  {
   "cell_type": "code",
   "execution_count": 136,
   "id": "0492c6bc",
   "metadata": {},
   "outputs": [
    {
     "data": {
      "text/html": [
       "<div>\n",
       "<style scoped>\n",
       "    .dataframe tbody tr th:only-of-type {\n",
       "        vertical-align: middle;\n",
       "    }\n",
       "\n",
       "    .dataframe tbody tr th {\n",
       "        vertical-align: top;\n",
       "    }\n",
       "\n",
       "    .dataframe thead th {\n",
       "        text-align: right;\n",
       "    }\n",
       "</style>\n",
       "<table border=\"1\" class=\"dataframe\">\n",
       "  <thead>\n",
       "    <tr style=\"text-align: right;\">\n",
       "      <th></th>\n",
       "      <th>Pregnancies</th>\n",
       "      <th>Glucose</th>\n",
       "      <th>BloodPressure</th>\n",
       "      <th>SkinThickness</th>\n",
       "      <th>Insulin</th>\n",
       "      <th>BMI</th>\n",
       "      <th>DiabetesPedigreeFunction</th>\n",
       "      <th>Age</th>\n",
       "      <th>Outcome</th>\n",
       "    </tr>\n",
       "  </thead>\n",
       "  <tbody>\n",
       "    <tr>\n",
       "      <th>0</th>\n",
       "      <td>6</td>\n",
       "      <td>148</td>\n",
       "      <td>72</td>\n",
       "      <td>35</td>\n",
       "      <td>0</td>\n",
       "      <td>33.6</td>\n",
       "      <td>0.627</td>\n",
       "      <td>50</td>\n",
       "      <td>1</td>\n",
       "    </tr>\n",
       "    <tr>\n",
       "      <th>1</th>\n",
       "      <td>1</td>\n",
       "      <td>85</td>\n",
       "      <td>66</td>\n",
       "      <td>29</td>\n",
       "      <td>0</td>\n",
       "      <td>26.6</td>\n",
       "      <td>0.351</td>\n",
       "      <td>31</td>\n",
       "      <td>0</td>\n",
       "    </tr>\n",
       "    <tr>\n",
       "      <th>2</th>\n",
       "      <td>8</td>\n",
       "      <td>183</td>\n",
       "      <td>64</td>\n",
       "      <td>0</td>\n",
       "      <td>0</td>\n",
       "      <td>23.3</td>\n",
       "      <td>0.672</td>\n",
       "      <td>32</td>\n",
       "      <td>1</td>\n",
       "    </tr>\n",
       "    <tr>\n",
       "      <th>3</th>\n",
       "      <td>1</td>\n",
       "      <td>89</td>\n",
       "      <td>66</td>\n",
       "      <td>23</td>\n",
       "      <td>94</td>\n",
       "      <td>28.1</td>\n",
       "      <td>0.167</td>\n",
       "      <td>21</td>\n",
       "      <td>0</td>\n",
       "    </tr>\n",
       "    <tr>\n",
       "      <th>4</th>\n",
       "      <td>0</td>\n",
       "      <td>137</td>\n",
       "      <td>40</td>\n",
       "      <td>35</td>\n",
       "      <td>168</td>\n",
       "      <td>43.1</td>\n",
       "      <td>2.288</td>\n",
       "      <td>33</td>\n",
       "      <td>1</td>\n",
       "    </tr>\n",
       "  </tbody>\n",
       "</table>\n",
       "</div>"
      ],
      "text/plain": [
       "   Pregnancies  Glucose  BloodPressure  SkinThickness  Insulin   BMI  \\\n",
       "0            6      148             72             35        0  33.6   \n",
       "1            1       85             66             29        0  26.6   \n",
       "2            8      183             64              0        0  23.3   \n",
       "3            1       89             66             23       94  28.1   \n",
       "4            0      137             40             35      168  43.1   \n",
       "\n",
       "   DiabetesPedigreeFunction  Age  Outcome  \n",
       "0                     0.627   50        1  \n",
       "1                     0.351   31        0  \n",
       "2                     0.672   32        1  \n",
       "3                     0.167   21        0  \n",
       "4                     2.288   33        1  "
      ]
     },
     "execution_count": 136,
     "metadata": {},
     "output_type": "execute_result"
    }
   ],
   "source": [
    "#displaying all read fields\n",
    "features.head()"
   ]
  },
  {
   "cell_type": "code",
   "execution_count": 140,
   "id": "4d240826",
   "metadata": {},
   "outputs": [],
   "source": [
    "#All rows and columns except last one\n",
    "x = features.iloc[:, :-1].values\n",
    "\n",
    "#All rows and 5th column only\n",
    "y = features.iloc[:, 5].values"
   ]
  },
  {
   "cell_type": "code",
   "execution_count": 141,
   "id": "79d58ce5",
   "metadata": {},
   "outputs": [
    {
     "name": "stdout",
     "output_type": "stream",
     "text": [
      "[[  6.    148.     72.    ...  33.6     0.627  50.   ]\n",
      " [  1.     85.     66.    ...  26.6     0.351  31.   ]\n",
      " [  8.    183.     64.    ...  23.3     0.672  32.   ]\n",
      " ...\n",
      " [  5.    121.     72.    ...  26.2     0.245  30.   ]\n",
      " [  1.    126.     60.    ...  30.1     0.349  47.   ]\n",
      " [  1.     93.     70.    ...  30.4     0.315  23.   ]]\n"
     ]
    }
   ],
   "source": [
    "print(x)"
   ]
  },
  {
   "cell_type": "code",
   "execution_count": 142,
   "id": "7b00221a",
   "metadata": {},
   "outputs": [
    {
     "name": "stdout",
     "output_type": "stream",
     "text": [
      "[33.6 26.6 23.3 28.1 43.1 25.6 31.  35.3 30.5  0.  37.6 38.  27.1 30.1\n",
      " 25.8 30.  45.8 29.6 43.3 34.6 39.3 35.4 39.8 29.  36.6 31.1 39.4 23.2\n",
      " 22.2 34.1 36.  31.6 24.8 19.9 27.6 24.  33.2 32.9 38.2 37.1 34.  40.2\n",
      " 22.7 45.4 27.4 42.  29.7 28.  39.1  0.  19.4 24.2 24.4 33.7 34.7 23.\n",
      " 37.7 46.8 40.5 41.5  0.  32.9 25.  25.4 32.8 29.  32.5 42.7 19.6 28.9\n",
      " 32.9 28.6 43.4 35.1 32.  24.7 32.6 37.7 43.2 25.  22.4  0.  29.3 24.6\n",
      " 48.8 32.4 36.6 38.5 37.1 26.5 19.1 32.  46.7 23.8 24.7 33.9 31.6 20.4\n",
      " 28.7 49.7 39.  26.1 22.5 26.6 39.6 28.7 22.4 29.5 34.3 37.4 33.3 34.\n",
      " 31.2 34.  30.5 31.2 34.  33.7 28.2 23.2 53.2 34.2 33.6 26.8 33.3 55.\n",
      " 42.9 33.3 34.5 27.9 29.7 33.3 34.5 38.3 21.1 33.8 30.8 28.7 31.2 36.9\n",
      " 21.1 39.5 32.5 32.4 32.8  0.  32.8 30.5 33.7 27.3 37.4 21.9 34.3 40.6\n",
      " 47.9 50.  24.6 25.2 29.  40.9 29.7 37.2 44.2 29.7 31.6 29.9 32.5 29.6\n",
      " 31.9 28.4 30.8 35.4 28.9 43.5 29.7 32.7 31.2 67.1 45.  39.1 23.2 34.9\n",
      " 27.7 26.8 27.6 35.9 30.1 32.  27.9 31.6 22.6 33.1 30.4 52.3 24.4 39.4\n",
      " 24.3 22.9 34.8 30.9 31.  40.1 27.3 20.4 37.7 23.9 37.5 37.7 33.2 35.5\n",
      " 27.7 42.8 34.2 42.6 34.2 41.8 35.8 30.  29.  37.8 34.6 31.6 25.2 28.8\n",
      " 23.6 34.6 35.7 37.2 36.7 45.2 44.  46.2 25.4 35.  29.7 43.6 35.9 44.1\n",
      " 30.8 18.4 29.2 33.1 25.6 27.1 38.2 30.  31.2 52.3 35.4 30.1 31.2 28.\n",
      " 24.4 35.8 27.6 33.6 30.1 28.7 25.9 33.3 30.9 30.  32.1 32.4 32.  33.6\n",
      " 36.3 40.  25.1 27.5 45.6 25.2 23.  33.2 34.2 40.5 26.5 27.8 24.9 25.3\n",
      " 37.9 35.9 32.4 30.4 27.  26.  38.7 45.6 20.8 36.1 36.9 36.6 43.3 40.5\n",
      " 21.9 35.5 28.  30.7 36.6 23.6 32.3 31.6 35.8 52.9 21.  39.7 25.5 24.8\n",
      " 30.5 32.9 26.2 39.4 26.6 29.5 35.9 34.1 19.3 30.5 38.1 23.5 27.5 31.6\n",
      " 27.4 26.8 35.7 25.6 35.1 35.1 45.5 30.8 23.1 32.7 43.3 23.6 23.9 47.9\n",
      " 33.8 31.2 34.2 39.9 25.9 25.9 32.  34.7 36.8 38.5 28.7 23.5 21.8 41.\n",
      " 42.2 31.2 34.4 27.2 42.7 30.4 33.3 39.9 35.3 36.5 31.2 29.8 39.2 38.5\n",
      " 34.9 34.  27.6 21.  27.5 32.8 38.4  0.  35.8 34.9 36.2 39.2 25.2 37.2\n",
      " 48.3 43.4 30.8 20.  25.4 25.1 24.3 22.3 32.3 43.3 32.  31.6 32.  45.7\n",
      " 23.7 22.1 32.9 27.7 24.7 34.3 21.1 34.9 32.  24.2 35.  31.6 32.9 42.1\n",
      " 28.9 21.9 25.9 42.4 35.7 34.4 42.4 26.2 34.6 35.7 27.2 38.5 18.2 26.4\n",
      " 45.3 26.  40.6 30.8 42.9 37.   0.  34.1 40.6 35.  22.2 30.4 30.  25.6\n",
      " 24.5 42.4 37.4 29.9 18.2 36.8 34.3 32.2 33.2 30.5 29.7 59.4 25.3 36.5\n",
      " 33.6 30.5 21.2 28.9 39.9 19.6 37.8 33.6 26.7 30.2 37.6 25.9 20.8 21.8\n",
      " 35.3 27.6 24.  21.8 27.8 36.8 30.  46.1 41.3 33.2 38.8 29.9 28.9 27.3\n",
      " 33.7 23.8 25.9 28.  35.5 35.2 27.8 38.2 44.2 42.3 40.7 46.5 25.6 26.1\n",
      " 36.8 33.5 32.8 28.9  0.  26.6 26.  30.1 25.1 29.3 25.2 37.2 39.  33.3\n",
      " 37.3 33.3 36.5 28.6 30.4 25.  29.7 22.1 24.2 27.3 25.6 31.6 30.3 37.6\n",
      " 32.8 19.6 25.  33.2  0.  34.2 31.6 21.8 18.2 26.3 30.8 24.6 29.8 45.3\n",
      " 41.3 29.8 33.3 32.9 29.6 21.7 36.3 36.4 39.4 32.4 34.9 39.5 32.  34.5\n",
      " 43.6 33.1 32.8 28.5 27.4 31.9 27.8 29.9 36.9 25.5 38.1 27.8 46.2 30.1\n",
      " 33.8 41.3 37.6 26.9 32.4 26.1 38.6 32.  31.3 34.3 32.5 22.6 29.5 34.7\n",
      " 30.1 35.5 24.  42.9 27.  34.7 42.1 25.  26.5 38.7 28.7 22.5 34.9 24.3\n",
      " 33.3 21.1 46.8 39.4 34.4 28.5 33.6 32.  45.3 27.8 36.8 23.1 27.1 23.7\n",
      " 27.8 35.2 28.4 35.8 40.  19.5 41.5 24.  30.9 32.9 38.2 32.5 36.1 25.8\n",
      " 28.7 20.1 28.2 32.4 38.4 24.2 40.8 43.5 30.8 37.7 24.7 32.4 34.6 24.7\n",
      " 27.4 34.5 26.2 27.5 25.9 31.2 28.8 31.6 40.9 19.5 29.3 34.3 29.5 28.\n",
      " 27.6 39.4 23.4 37.8 28.3 26.4 25.2 33.8 34.1 26.8 34.2 38.7 21.8 38.9\n",
      " 39.  34.2 27.7 42.9 37.6 37.9 33.7 34.8 32.5 27.5 34.  30.9 33.6 25.4\n",
      " 35.5 57.3 35.6 30.9 24.8 35.3 36.  24.2 24.2 49.6 44.6 32.3  0.  33.2\n",
      " 23.1 28.3 24.1 46.1 24.6 42.3 39.1 38.5 23.5 30.4 29.9 25.  34.5 44.5\n",
      " 35.9 27.6 35.  38.5 28.4 39.8  0.  34.4 32.8 38.  31.2 29.6 41.2 26.4\n",
      " 29.5 33.9 33.8 23.1 35.5 35.6 29.3 38.1 29.3 39.1 32.8 39.4 36.1 32.4\n",
      " 22.9 30.1 28.4 28.4 44.5 29.  23.3 35.4 27.4 32.  36.6 39.5 42.3 30.8\n",
      " 28.5 32.7 40.6 30.  49.3 46.3 36.4 24.3 31.2 39.  26.  43.3 32.4 36.5\n",
      " 32.  36.3 37.5 35.5 28.4 44.  22.5 32.9 36.8 26.2 30.1 30.4]\n"
     ]
    }
   ],
   "source": [
    "print(y)"
   ]
  },
  {
   "cell_type": "code",
   "execution_count": 143,
   "id": "381a469f",
   "metadata": {},
   "outputs": [
    {
     "data": {
      "text/plain": [
       "<AxesSubplot:>"
      ]
     },
     "execution_count": 143,
     "metadata": {},
     "output_type": "execute_result"
    },
    {
     "data": {
      "image/png": "[encoded data removed]",
      "text/plain": [
       "<Figure size 432x288 with 2 Axes>"
      ]
     },
     "metadata": {
      "needs_background": "light"
     },
     "output_type": "display_data"
    }
   ],
   "source": [
    "# Data Visualisation\n",
    "# Building the correlation matrix\n",
    "sns.heatmap(features.corr())"
   ]
  },
  {
   "cell_type": "code",
   "execution_count": 145,
   "id": "b6d88366",
   "metadata": {},
   "outputs": [
    {
     "name": "stdout",
     "output_type": "stream",
     "text": [
      "[[  6.    148.     72.    ...  33.6     0.627  50.   ]\n",
      " [  1.     85.     66.    ...  26.6     0.351  31.   ]\n",
      " [  8.    183.     64.    ...  23.3     0.672  32.   ]\n",
      " ...\n",
      " [  5.    121.     72.    ...  26.2     0.245  30.   ]\n",
      " [  1.    126.     60.    ...  30.1     0.349  47.   ]\n",
      " [  1.     93.     70.    ...  30.4     0.315  23.   ]]\n"
     ]
    }
   ],
   "source": [
    "#encoding categorial data\n",
    "from sklearn.preprocessing import LabelEncoder, OneHotEncoder\n",
    "from sklearn.compose import ColumnTransformer\n",
    "\n",
    "#to convert the labels to numbers(not needed here. for e.g., A, B, C to 1,2,3)\n",
    "labelencoder = LabelEncoder()\n",
    "x[:,3] = labelencoder.fit_transform(x[:, 3])\n",
    "\n",
    "ct = ColumnTransformer([\"SkinThickness\", OneHotEncoder(), [3]], remainder = 'passthrough')\n",
    "\n",
    "#onehotencoder = OneHotEncoder(ColumnTransfomer = [3])\n",
    "#x = onehotencoder.fit_transform(x).toarray()\n",
    "#x = ct.fit_transform(x).toarray()\n",
    "\n",
    "print(x)"
   ]
  },
  {
   "cell_type": "code",
   "execution_count": 146,
   "id": "04b0ce82",
   "metadata": {},
   "outputs": [],
   "source": [
    "#take all rows and colums from 2 onwards\n",
    "x = x[:, 1:]"
   ]
  },
  {
   "cell_type": "code",
   "execution_count": 147,
   "id": "f0fc30e6",
   "metadata": {},
   "outputs": [
    {
     "name": "stdout",
     "output_type": "stream",
     "text": [
      "[148.     72.     28.      0.     33.6     0.627  50.   ]\n"
     ]
    }
   ],
   "source": [
    "print (x[0])"
   ]
  },
  {
   "cell_type": "code",
   "execution_count": 148,
   "id": "d734af62",
   "metadata": {},
   "outputs": [],
   "source": [
    "# splliting the dataset into the training set and test set\n",
    "from sklearn.model_selection import train_test_split\n",
    "x_train, x_test, y_train, y_test = train_test_split(x, y, test_size=0.2, random_state=0)"
   ]
  },
  {
   "cell_type": "code",
   "execution_count": 149,
   "id": "c1ec64be",
   "metadata": {},
   "outputs": [
    {
     "data": {
      "text/html": [
       "<style>#sk-container-id-2 {color: black;background-color: white;}#sk-container-id-2 pre{padding: 0;}#sk-container-id-2 div.sk-toggleable {background-color: white;}#sk-container-id-2 label.sk-toggleable__label {cursor: pointer;display: block;width: 100%;margin-bottom: 0;padding: 0.3em;box-sizing: border-box;text-align: center;}#sk-container-id-2 label.sk-toggleable__label-arrow:before {content: \"▸\";float: left;margin-right: 0.25em;color: #696969;}#sk-container-id-2 label.sk-toggleable__label-arrow:hover:before {color: black;}#sk-container-id-2 div.sk-estimator:hover label.sk-toggleable__label-arrow:before {color: black;}#sk-container-id-2 div.sk-toggleable__content {max-height: 0;max-width: 0;overflow: hidden;text-align: left;background-color: #f0f8ff;}#sk-container-id-2 div.sk-toggleable__content pre {margin: 0.2em;color: black;border-radius: 0.25em;background-color: #f0f8ff;}#sk-container-id-2 input.sk-toggleable__control:checked~div.sk-toggleable__content {max-height: 200px;max-width: 100%;overflow: auto;}#sk-container-id-2 input.sk-toggleable__control:checked~label.sk-toggleable__label-arrow:before {content: \"▾\";}#sk-container-id-2 div.sk-estimator input.sk-toggleable__control:checked~label.sk-toggleable__label {background-color: #d4ebff;}#sk-container-id-2 div.sk-label input.sk-toggleable__control:checked~label.sk-toggleable__label {background-color: #d4ebff;}#sk-container-id-2 input.sk-hidden--visually {border: 0;clip: rect(1px 1px 1px 1px);clip: rect(1px, 1px, 1px, 1px);height: 1px;margin: -1px;overflow: hidden;padding: 0;position: absolute;width: 1px;}#sk-container-id-2 div.sk-estimator {font-family: monospace;background-color: #f0f8ff;border: 1px dotted black;border-radius: 0.25em;box-sizing: border-box;margin-bottom: 0.5em;}#sk-container-id-2 div.sk-estimator:hover {background-color: #d4ebff;}#sk-container-id-2 div.sk-parallel-item::after {content: \"\";width: 100%;border-bottom: 1px solid gray;flex-grow: 1;}#sk-container-id-2 div.sk-label:hover label.sk-toggleable__label {background-color: #d4ebff;}#sk-container-id-2 div.sk-serial::before {content: \"\";position: absolute;border-left: 1px solid gray;box-sizing: border-box;top: 0;bottom: 0;left: 50%;z-index: 0;}#sk-container-id-2 div.sk-serial {display: flex;flex-direction: column;align-items: center;background-color: white;padding-right: 0.2em;padding-left: 0.2em;position: relative;}#sk-container-id-2 div.sk-item {position: relative;z-index: 1;}#sk-container-id-2 div.sk-parallel {display: flex;align-items: stretch;justify-content: center;background-color: white;position: relative;}#sk-container-id-2 div.sk-item::before, #sk-container-id-2 div.sk-parallel-item::before {content: \"\";position: absolute;border-left: 1px solid gray;box-sizing: border-box;top: 0;bottom: 0;left: 50%;z-index: -1;}#sk-container-id-2 div.sk-parallel-item {display: flex;flex-direction: column;z-index: 1;position: relative;background-color: white;}#sk-container-id-2 div.sk-parallel-item:first-child::after {align-self: flex-end;width: 50%;}#sk-container-id-2 div.sk-parallel-item:last-child::after {align-self: flex-start;width: 50%;}#sk-container-id-2 div.sk-parallel-item:only-child::after {width: 0;}#sk-container-id-2 div.sk-dashed-wrapped {border: 1px dashed gray;margin: 0 0.4em 0.5em 0.4em;box-sizing: border-box;padding-bottom: 0.4em;background-color: white;}#sk-container-id-2 div.sk-label label {font-family: monospace;font-weight: bold;display: inline-block;line-height: 1.2em;}#sk-container-id-2 div.sk-label-container {text-align: center;}#sk-container-id-2 div.sk-container {/* jupyter's `normalize.less` sets `[hidden] { display: none; }` but bootstrap.min.css set `[hidden] { display: none !important; }` so we also need the `!important` here to be able to override the default hidden behavior on the sphinx rendered scikit-learn.org. See: https://github.com/scikit-learn/scikit-learn/issues/21755 */display: inline-block !important;position: relative;}#sk-container-id-2 div.sk-text-repr-fallback {display: none;}</style><div id=\"sk-container-id-2\" class=\"sk-top-container\"><div class=\"sk-text-repr-fallback\"><pre>LinearRegression()</pre><b>In a Jupyter environment, please rerun this cell to show the HTML representation or trust the notebook. <br />On GitHub, the HTML representation is unable to render, please try loading this page with nbviewer.org.</b></div><div class=\"sk-container\" hidden><div class=\"sk-item\"><div class=\"sk-estimator sk-toggleable\"><input class=\"sk-toggleable__control sk-hidden--visually\" id=\"sk-estimator-id-2\" type=\"checkbox\" checked><label for=\"sk-estimator-id-2\" class=\"sk-toggleable__label sk-toggleable__label-arrow\">LinearRegression</label><div class=\"sk-toggleable__content\"><pre>LinearRegression()</pre></div></div></div></div></div>"
      ],
      "text/plain": [
       "LinearRegression()"
      ]
     },
     "execution_count": 149,
     "metadata": {},
     "output_type": "execute_result"
    }
   ],
   "source": [
    "#fitting multiple linear regression to the training set\n",
    "from sklearn.linear_model import LinearRegression\n",
    "regressor = LinearRegression()\n",
    "regressor.fit(x_train, y_train)"
   ]
  },
  {
   "cell_type": "code",
   "execution_count": 150,
   "id": "63814b9b",
   "metadata": {},
   "outputs": [
    {
     "name": "stdout",
     "output_type": "stream",
     "text": [
      "[ 4.29000000e+01  3.36000000e+01  3.40000000e+01  2.58000000e+01\n",
      "  2.46000000e+01  2.66000000e+01  3.42000000e+01  3.33000000e+01\n",
      "  2.77000000e+01  3.77000000e+01  3.16000000e+01  4.36000000e+01\n",
      "  2.49000000e+01  2.85000000e+01  3.20000000e+01  2.73000000e+01\n",
      "  3.27000000e+01  2.30000000e+01  2.80000000e+01  3.40000000e+01\n",
      "  3.85000000e+01  4.29000000e+01  2.89000000e+01  3.44000000e+01\n",
      "  2.32000000e+01  3.58000000e+01  1.84000000e+01  4.06000000e+01\n",
      "  2.50000000e+01  2.60000000e+01  2.60000000e+01  4.06000000e+01\n",
      "  2.93000000e+01  3.62000000e+01  2.23000000e+01  3.29000000e+01\n",
      "  2.83000000e+01  2.52000000e+01  3.55000000e+01  3.40000000e+01\n",
      "  3.49000000e+01  4.27000000e+01  2.69000000e+01  3.49000000e+01\n",
      "  3.05000000e+01 -3.91737617e-14  2.52000000e+01  2.64000000e+01\n",
      "  3.48000000e+01  3.23000000e+01  2.70000000e+01  3.25000000e+01\n",
      "  4.18000000e+01  3.20000000e+01  3.99000000e+01  2.47000000e+01\n",
      "  2.66000000e+01  5.29000000e+01  2.89000000e+01 -2.73724358e-14\n",
      "  3.76000000e+01  3.49000000e+01  2.47000000e+01  3.63000000e+01\n",
      "  3.05000000e+01  2.59000000e+01  3.04000000e+01  2.30000000e+01\n",
      "  3.12000000e+01  3.16000000e+01  3.08000000e+01  2.52000000e+01\n",
      "  3.58000000e+01  4.08000000e+01  4.36000000e+01  3.12000000e+01\n",
      "  3.55000000e+01  2.93000000e+01  2.93000000e+01  3.81000000e+01\n",
      "  3.87000000e+01  3.74000000e+01  3.24000000e+01  1.82000000e+01\n",
      "  3.54000000e+01  4.22000000e+01  2.56000000e+01  4.33000000e+01\n",
      "  3.59000000e+01  4.35000000e+01  2.78000000e+01  2.80000000e+01\n",
      "  2.95000000e+01  1.94000000e+01  3.28000000e+01  2.95000000e+01\n",
      "  4.09000000e+01  4.15000000e+01  3.71000000e+01  2.89000000e+01\n",
      "  4.42000000e+01  2.46000000e+01  3.76000000e+01  1.96000000e+01\n",
      "  4.00000000e+01  3.05000000e+01  2.74000000e+01  3.32000000e+01\n",
      "  1.93000000e+01  2.33000000e+01  2.84000000e+01  3.42000000e+01\n",
      "  3.49000000e+01  3.20000000e+01  3.57000000e+01  3.04000000e+01\n",
      "  2.53000000e+01  2.59000000e+01  3.01000000e+01  4.23000000e+01\n",
      "  3.94000000e+01  3.92000000e+01  3.81000000e+01  2.65000000e+01\n",
      "  2.62000000e+01  2.35000000e+01  3.45000000e+01  3.23000000e+01\n",
      "  2.67000000e+01  2.29000000e+01  2.86000000e+01 -2.69969781e-14\n",
      "  2.77000000e+01  4.24000000e+01  3.33000000e+01  3.29000000e+01\n",
      "  2.83000000e+01  3.91000000e+01  3.00000000e+01  2.68000000e+01\n",
      "  3.27000000e+01  3.13000000e+01  2.43000000e+01  3.26000000e+01\n",
      "  3.28000000e+01  2.54000000e+01  2.44000000e+01  2.62000000e+01\n",
      "  2.72000000e+01  3.37000000e+01  2.78000000e+01  4.40000000e+01\n",
      "  2.63000000e+01  3.08000000e+01]\n"
     ]
    }
   ],
   "source": [
    "#predicting the test set results\n",
    "y_pred = regressor.predict(x_test)\n",
    "print(y_pred)"
   ]
  },
  {
   "cell_type": "code",
   "execution_count": 151,
   "id": "0569171c",
   "metadata": {},
   "outputs": [
    {
     "name": "stdout",
     "output_type": "stream",
     "text": [
      "[ 3.94233645e-17 -1.52655666e-16 -7.37257477e-17 -2.77555756e-17\n",
      "  1.00000000e+00  7.56847655e-16 -1.22731686e-16]\n"
     ]
    }
   ],
   "source": [
    "#calculating the coefficients\n",
    "print(regressor.coef_)"
   ]
  },
  {
   "cell_type": "code",
   "execution_count": 152,
   "id": "d118a9cd",
   "metadata": {},
   "outputs": [
    {
     "name": "stdout",
     "output_type": "stream",
     "text": [
      "-2.842170943040401e-14\n"
     ]
    }
   ],
   "source": [
    "#calculating the intercept\n",
    "print(regressor.intercept_)"
   ]
  },
  {
   "cell_type": "code",
   "execution_count": 153,
   "id": "e2a39ed0",
   "metadata": {},
   "outputs": [
    {
     "data": {
      "text/plain": [
       "1.0"
      ]
     },
     "execution_count": 153,
     "metadata": {},
     "output_type": "execute_result"
    }
   ],
   "source": [
    "#calculating the R squared value\n",
    "from sklearn.metrics import r2_score\n",
    "r2_score(y_test, y_pred)"
   ]
  },
  {
   "cell_type": "code",
   "execution_count": null,
   "id": "95a7745d",
   "metadata": {},
   "outputs": [],
   "source": []
  }
 ],
 "metadata": {
  "kernelspec": {
   "display_name": "Python 3 (ipykernel)",
   "language": "python",
   "name": "python3"
  },
  "language_info": {
   "codemirror_mode": {
    "name": "ipython",
    "version": 3
   },
   "file_extension": ".py",
   "mimetype": "text/x-python",
   "name": "python",
   "nbconvert_exporter": "python",
   "pygments_lexer": "ipython3",
   "version": "3.9.7"
  }
 },
 "nbformat": 4,
 "nbformat_minor": 5
}
