{
 "cells": [
  {
   "cell_type": "markdown",
   "id": "1f3fef9a",
   "metadata": {},
   "source": [
    "# 1. Headings\n",
    "\n",
    "# Title\n",
    "## Major Headings\n",
    "### Subheadings\n",
    "#### 4th Level Subheadings"
   ]
  },
  {
   "cell_type": "markdown",
   "id": "ec9c26f1",
   "metadata": {},
   "source": [
    "# 2. Bold\n",
    "<b> bold text with <b>\n",
    "    \n",
    "**bold text with****\n",
    "    \n",
    "__bold text with ____    "
   ]
  },
  {
   "cell_type": "markdown",
   "id": "ae843b7a",
   "metadata": {},
   "source": [
    "# 3. Italic\n",
    "\n",
    "*Italic with * with no space*\n",
    "\n",
    "_Italic with _with no space_\n"
   ]
  },
  {
   "cell_type": "markdown",
   "id": "c48e6d03",
   "metadata": {},
   "source": [
    "# 4. Bullets\n",
    "- This is a bullet with - and space\n",
    "* this is a bullet * and space\n",
    "\n",
    "    - This is a sub bullet with tab and - with space\n",
    "    * This is s sub bullet with tab and - with space"
   ]
  },
  {
   "cell_type": "markdown",
   "id": "61e08862",
   "metadata": {},
   "source": [
    "# 5. Numbered List\n",
    "1. List1\n",
    "    1. Sublist1"
   ]
  },
  {
   "cell_type": "markdown",
   "id": "dd15ed19",
   "metadata": {},
   "source": [
    "# 6. Mathematical Symbol\n",
    "Mathematical symbol enclosed with $ sign : 1$+$1$=$2"
   ]
  },
  {
   "cell_type": "markdown",
   "id": "a440c42a",
   "metadata": {},
   "source": [
    "# 7. Indented quoting\n",
    "> 1st line of 1st block<br>\n",
    "second line of 1st block\n",
    "\n",
    "> 1st line of 2nd block<br>\n",
    "second line of 2nd block\n"
   ]
  },
  {
   "cell_type": "markdown",
   "id": "7c1a7b80",
   "metadata": {},
   "source": [
    "# 8. Line breaks\n",
    "line break using <br <br> broken here"
   ]
  },
  {
   "cell_type": "markdown",
   "id": "3b656b35",
   "metadata": {},
   "source": [
    "# 9. Image\n",
    "Drag and drop!"
   ]
  },
  {
   "cell_type": "markdown",
   "id": "c712f358",
   "metadata": {},
   "source": [
    "# 10. Colors\n",
    "<font color=blue> blue </font>\n",
    "\n",
    "<font color=red> red </font>\n",
    "\n",
    "<font color=yellow> yellow </font>"
   ]
  },
  {
   "cell_type": "markdown",
   "id": "236af5be",
   "metadata": {},
   "source": [
    "# 11. Links\n",
    "[Click here to google](https://www.google.com/)"
   ]
  },
  {
   "cell_type": "code",
   "execution_count": null,
   "id": "c38faa65",
   "metadata": {},
   "outputs": [],
   "source": []
  }
 ],
 "metadata": {
  "kernelspec": {
   "display_name": "Python 3 (ipykernel)",
   "language": "python",
   "name": "python3"
  },
  "language_info": {
   "codemirror_mode": {
    "name": "ipython",
    "version": 3
   },
   "file_extension": ".py",
   "mimetype": "text/x-python",
   "name": "python",
   "nbconvert_exporter": "python",
   "pygments_lexer": "ipython3",
   "version": "3.9.7"
  }
 },
 "nbformat": 4,
 "nbformat_minor": 5
}
